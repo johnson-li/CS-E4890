{
 "cells": [
  {
   "cell_type": "markdown",
   "metadata": {
    "deletable": false,
    "editable": false,
    "nbgrader": {
     "cell_type": "markdown",
     "checksum": "4be0ee127ad1ca7cbe5adc273b343977",
     "grade": false,
     "grade_id": "cell-440df6cfa709812f",
     "locked": true,
     "schema_version": 3,
     "solution": false
    }
   },
   "source": [
    "<div class=\"alert alert-block alert-info\">\n",
    "<b>Number of points for this notebook:</b> 1\n",
    "<br>\n",
    "<b>Deadline:</b> March 23, 2020 (Monday). 23:00\n",
    "</div>\n",
    "\n",
    "# Exercise 4.1. Convolutional neural networks. LeNet-5.\n",
    "\n",
    "In this exercise, you will train a very simple convolutional neural network used for image classification tasks.\n",
    "\n",
    "If you are not fluent with PyTorch, you may find it useful to look at this tutorial:\n",
    "* [Neural Networks](https://pytorch.org/tutorials/beginner/blitz/neural_networks_tutorial.html#sphx-glr-beginner-blitz-neural-networks-tutorial-py)"
   ]
  },
  {
   "cell_type": "code",
   "execution_count": 1,
   "metadata": {},
   "outputs": [],
   "source": [
    "skip_training = True  # Set this flag to True before validation and submission"
   ]
  },
  {
   "cell_type": "code",
   "execution_count": 2,
   "metadata": {
    "deletable": false,
    "editable": false,
    "nbgrader": {
     "cell_type": "code",
     "checksum": "65e2970339980ef7d85c3754662c4ee8",
     "grade": true,
     "grade_id": "evaluation_settings",
     "locked": true,
     "points": 0,
     "schema_version": 3,
     "solution": false,
     "task": false
    }
   },
   "outputs": [],
   "source": [
    "# During evaluation, this cell sets skip_training to True\n",
    "# skip_training = True"
   ]
  },
  {
   "cell_type": "code",
   "execution_count": 3,
   "metadata": {},
   "outputs": [],
   "source": [
    "import os\n",
    "import numpy as np\n",
    "import matplotlib.pyplot as plt\n",
    "%matplotlib inline\n",
    "\n",
    "import torch\n",
    "import torchvision\n",
    "import torchvision.transforms as transforms\n",
    "\n",
    "import torch.nn as nn\n",
    "import torch.nn.functional as F\n",
    "import torch.optim as optim\n",
    "\n",
    "import tools\n",
    "import tests"
   ]
  },
  {
   "cell_type": "code",
   "execution_count": 4,
   "metadata": {},
   "outputs": [
    {
     "name": "stdout",
     "output_type": "stream",
     "text": [
      "The data directory is /coursedata\n"
     ]
    }
   ],
   "source": [
    "# When running on your own computer, you can specify the data directory by:\n",
    "# data_dir = tools.select_data_dir('/your/local/data/directory')\n",
    "data_dir = tools.select_data_dir()"
   ]
  },
  {
   "cell_type": "code",
   "execution_count": 5,
   "metadata": {},
   "outputs": [],
   "source": [
    "# Select the device for training (use GPU if you have one)\n",
    "#device = torch.device('cuda:0')\n",
    "device = torch.device('cpu')"
   ]
  },
  {
   "cell_type": "code",
   "execution_count": 6,
   "metadata": {
    "deletable": false,
    "editable": false,
    "nbgrader": {
     "cell_type": "code",
     "checksum": "48d33ffe246f5459117f53cac15b370d",
     "grade": false,
     "grade_id": "cell-fe95dcf02c6b9c5e",
     "locked": true,
     "schema_version": 3,
     "solution": false
    }
   },
   "outputs": [],
   "source": [
    "if skip_training:\n",
    "    # The models are always evaluated on CPU\n",
    "    device = torch.device(\"cpu\")"
   ]
  },
  {
   "cell_type": "markdown",
   "metadata": {
    "deletable": false,
    "editable": false,
    "nbgrader": {
     "cell_type": "markdown",
     "checksum": "2f2b11aa8f0d0377563333bd78493751",
     "grade": false,
     "grade_id": "cell-e5b565cc4aae8e7f",
     "locked": true,
     "schema_version": 3,
     "solution": false
    }
   },
   "source": [
    "## FashionMNIST dataset\n",
    "\n",
    "Let us use the FashionMNIST dataset. It consists of 60,000 training images of 10 classes: 'T-shirt/top', 'Trouser', 'Pullover', 'Dress', 'Coat', 'Sandal', 'Shirt', 'Sneaker', 'Bag', 'Ankle boot'."
   ]
  },
  {
   "cell_type": "code",
   "execution_count": 7,
   "metadata": {
    "deletable": false,
    "editable": false,
    "nbgrader": {
     "cell_type": "code",
     "checksum": "889ef743f5d3f1f0499804525691113a",
     "grade": false,
     "grade_id": "cell-8b0fded08998282c",
     "locked": true,
     "schema_version": 3,
     "solution": false
    }
   },
   "outputs": [],
   "source": [
    "transform = transforms.Compose([\n",
    "    transforms.ToTensor(),  # Transform to tensor\n",
    "    transforms.Normalize((0.5,), (0.5,))  # Min-max scaling to [-1, 1]\n",
    "])\n",
    "\n",
    "trainset = torchvision.datasets.FashionMNIST(root=data_dir, train=True, download=True, transform=transform)\n",
    "testset = torchvision.datasets.FashionMNIST(root=data_dir, train=False, download=True, transform=transform)\n",
    "\n",
    "classes = ['T-shirt/top', 'Trouser', 'Pullover', 'Dress', 'Coat', 'Sandal',\n",
    "           'Shirt', 'Sneaker', 'Bag', 'Ankle boot']\n",
    "\n",
    "trainloader = torch.utils.data.DataLoader(trainset, batch_size=32, shuffle=True)\n",
    "testloader = torch.utils.data.DataLoader(testset, batch_size=5, shuffle=False)"
   ]
  },
  {
   "cell_type": "markdown",
   "metadata": {
    "deletable": false,
    "editable": false,
    "nbgrader": {
     "cell_type": "markdown",
     "checksum": "b3eec87e2b4206e1a149c9169348fcc3",
     "grade": false,
     "grade_id": "cell-a8894f680446eafa",
     "locked": true,
     "schema_version": 3,
     "solution": false
    }
   },
   "source": [
    "Let us visualize the data."
   ]
  },
  {
   "cell_type": "code",
   "execution_count": 8,
   "metadata": {
    "deletable": false,
    "editable": false,
    "nbgrader": {
     "cell_type": "code",
     "checksum": "3bfb149491d7094038a73acd50f94687",
     "grade": false,
     "grade_id": "cell-b830430a1313650a",
     "locked": true,
     "schema_version": 3,
     "solution": false
    }
   },
   "outputs": [
    {
     "data": {
      "image/png": "[encoded data removed]",
      "text/plain": [
       "<Figure size 432x288 with 8 Axes>"
      ]
     },
     "metadata": {},
     "output_type": "display_data"
    }
   ],
   "source": [
    "images, labels = iter(trainloader).next()\n",
    "tests.plot_images(images[:8], n_rows=2)"
   ]
  },
  {
   "cell_type": "markdown",
   "metadata": {
    "deletable": false,
    "editable": false,
    "nbgrader": {
     "cell_type": "markdown",
     "checksum": "c6c23d31cbad1c0d5eb1dc397e69202a",
     "grade": false,
     "grade_id": "cell-84bcd5c448fd8cd4",
     "locked": true,
     "schema_version": 3,
     "solution": false
    }
   },
   "source": [
    "# 1. Simple convolutional network\n",
    "\n",
    "In the first exercise, your task is to create a convolutional neural network with the architecture inspired by the classical LeNet-5 [(LeCun et al., 1998)](http://yann.lecun.com/exdb/publis/pdf/lecun-01a.pdf):\n",
    "\n",
    "<img src=\"simple_net.png\" width=350 style=\"float: left;\">"
   ]
  },
  {
   "cell_type": "markdown",
   "metadata": {
    "deletable": false,
    "editable": false,
    "nbgrader": {
     "cell_type": "markdown",
     "checksum": "4cd64ce44349d874f0945452240cd0d5",
     "grade": false,
     "grade_id": "cell-8b44b42206140b1b",
     "locked": true,
     "schema_version": 3,
     "solution": false
    }
   },
   "source": [
    "The architecture of the convolutional network that you need to create:\n",
    "* 2d convolutional layer with:\n",
    "    * one input channel\n",
    "    * 16 output channels\n",
    "    * kernel size 5 (no padding)\n",
    "    * followed by ReLU\n",
    "* Max-pooling layer with kernel size 2 and stride 2\n",
    "* 2d convolutional layer with:\n",
    "    * 32 output channels\n",
    "    * kernel size 5 (no padding)\n",
    "    * followed by ReLU\n",
    "* Max-pooling layer with kernel size 2 and stride 2\n",
    "* A fully-connected layer with:\n",
    "    * 120 outputs\n",
    "    * followed by ReLU\n",
    "* A fully-connected layer with:\n",
    "    * 84 outputs\n",
    "    * followed by ReLU\n",
    "* A fully-connected layer with 10 outputs and without nonlinearity."
   ]
  },
  {
   "cell_type": "code",
   "execution_count": 9,
   "metadata": {
    "deletable": false,
    "nbgrader": {
     "cell_type": "code",
     "checksum": "4abe6ec43a7c984c4012b918ef95c1bf",
     "grade": false,
     "grade_id": "LeNet5",
     "locked": false,
     "schema_version": 3,
     "solution": true
    }
   },
   "outputs": [],
   "source": [
    "resolution = images[0].shape\n",
    "pixels = resolution[1] * resolution[2]\n",
    "\n",
    "class LeNet5(nn.Module):\n",
    "    def __init__(self):\n",
    "        super(LeNet5, self).__init__()\n",
    "        # YOUR CODE HERE\n",
    "        self.conv1 = nn.Conv2d(1, 16, 5)\n",
    "        self.pool1 = nn.MaxPool2d(2, 2)\n",
    "        self.conv2 = nn.Conv2d(16, 32, 5)\n",
    "        self.pool2 = nn.MaxPool2d(2, 2)\n",
    "        self.fc1 = nn.Linear(512, 120)\n",
    "        self.fc2 = nn.Linear(120, 84)\n",
    "        self.fc3 = nn.Linear(84, 10)\n",
    "    \n",
    "    def forward(self, x):\n",
    "        \"\"\"\n",
    "        Args:\n",
    "          x of shape (batch_size, 1, 28, 28): Input images.\n",
    "        \n",
    "        Returns:\n",
    "          y of shape (batch_size, 10): Outputs of the network.\n",
    "        \"\"\"\n",
    "        # YOUR CODE HERE\n",
    "        l1 = self.pool1(F.relu(self.conv1(x)))\n",
    "        l2 = self.pool2(F.relu(self.conv2(l1)))\n",
    "        l2 = l2.reshape((x.shape[0], 512))\n",
    "        l3 = F.relu(self.fc1.forward(l2))\n",
    "        l4 = F.relu(self.fc2.forward(l3))\n",
    "        l5 = self.fc3.forward(l4)\n",
    "        return l5"
   ]
  },
  {
   "cell_type": "code",
   "execution_count": 10,
   "metadata": {
    "deletable": false,
    "editable": false,
    "nbgrader": {
     "cell_type": "code",
     "checksum": "397fc66524db07f162f4a5be7a49f027",
     "grade": false,
     "grade_id": "cell-95587f8277f8ff68",
     "locked": true,
     "schema_version": 3,
     "solution": false,
     "task": false
    }
   },
   "outputs": [
    {
     "name": "stdout",
     "output_type": "stream",
     "text": [
      "Shape of the input tensor: torch.Size([32, 1, 28, 28])\n",
      "Success\n"
     ]
    }
   ],
   "source": [
    "def test_LeNet5_shapes():\n",
    "    net = LeNet5()\n",
    "\n",
    "    # Feed a batch of images from the training data to test the network\n",
    "    with torch.no_grad():\n",
    "        images, labels = iter(trainloader).next()\n",
    "        print('Shape of the input tensor:', images.shape)\n",
    "\n",
    "        y = net(images)\n",
    "        assert y.shape == torch.Size([trainloader.batch_size, 10]), \"Bad shape of y: y.shape={}\".format(y.shape)\n",
    "\n",
    "    print('Success')\n",
    "\n",
    "test_LeNet5_shapes()"
   ]
  },
  {
   "cell_type": "code",
   "execution_count": 11,
   "metadata": {
    "deletable": false,
    "editable": false,
    "nbgrader": {
     "cell_type": "code",
     "checksum": "107026b7f80bce8657e00c43ee4c7dfa",
     "grade": true,
     "grade_id": "test_LeNet5",
     "locked": true,
     "points": 0.5,
     "schema_version": 3,
     "solution": false,
     "task": false
    }
   },
   "outputs": [
    {
     "name": "stdout",
     "output_type": "stream",
     "text": [
      "y: tensor([[ 1.0000,  1.0000,  1.0000,  1.0000,  1.0000, -1.0000, -1.0000, -1.0000,\n",
      "         -1.0000, -1.0000]], grad_fn=<AddmmBackward>)\n",
      "expected: tensor([ 1.,  1.,  1.,  1.,  1., -1., -1., -1., -1., -1.])\n",
      "Success\n"
     ]
    }
   ],
   "source": [
    "tests.test_LeNet5(LeNet5)"
   ]
  },
  {
   "cell_type": "markdown",
   "metadata": {
    "deletable": false,
    "editable": false,
    "nbgrader": {
     "cell_type": "markdown",
     "checksum": "824d2a50422e0f38599122287116a30d",
     "grade": false,
     "grade_id": "cell-c577fd827241ab3b",
     "locked": true,
     "schema_version": 3,
     "solution": false,
     "task": false
    }
   },
   "source": [
    "# Train the network"
   ]
  },
  {
   "cell_type": "code",
   "execution_count": 12,
   "metadata": {
    "deletable": false,
    "editable": false,
    "nbgrader": {
     "cell_type": "code",
     "checksum": "b87c28d8f82a2bce0f854fbb38a2499b",
     "grade": false,
     "grade_id": "cell-b4de7f71752f38fa",
     "locked": true,
     "schema_version": 3,
     "solution": false,
     "task": false
    }
   },
   "outputs": [],
   "source": [
    "# This function computes the accuracy on the test dataset\n",
    "def compute_accuracy(net, testloader):\n",
    "    net.eval()\n",
    "    correct = 0\n",
    "    total = 0\n",
    "    with torch.no_grad():\n",
    "        for images, labels in testloader:\n",
    "            images, labels = images.to(device), labels.to(device)\n",
    "            outputs = net(images)\n",
    "            _, predicted = torch.max(outputs.data, 1)\n",
    "            total += labels.size(0)\n",
    "            correct += (predicted == labels).sum().item()\n",
    "    return correct / total"
   ]
  },
  {
   "cell_type": "markdown",
   "metadata": {
    "deletable": false,
    "editable": false,
    "nbgrader": {
     "cell_type": "markdown",
     "checksum": "5299b3762f7521227ad010472a8a9e7a",
     "grade": false,
     "grade_id": "cell-6ade8368217a66dd",
     "locked": true,
     "schema_version": 3,
     "solution": false,
     "task": false
    }
   },
   "source": [
    "### Training loop\n",
    "\n",
    "Your task is to implement the training loop. The recommended hyperparameters:\n",
    "* Stochastic Gradient Descent (SCG) optimizer with learning rate 0.001 and momentum 0.9.\n",
    "* Cross-entropy loss. Note that we did not use softmax nonlinearity in the final layer of our network. Therefore, we need to use a loss function with log_softmax implemented, such as [`nn.CrossEntropyLoss`](https://pytorch.org/docs/stable/nn.html#torch.nn.CrossEntropyLoss).\n",
    "* Number of epochs: 10\n",
    "\n",
    "We recommend you to use function `compute_accuracy()` defined above to track the accuracy during training. The test accuracy should be above 0.87."
   ]
  },
  {
   "cell_type": "code",
   "execution_count": 27,
   "metadata": {
    "deletable": false,
    "editable": false,
    "nbgrader": {
     "cell_type": "code",
     "checksum": "e2ced3685882aaa9f96e2ac161ed22f8",
     "grade": false,
     "grade_id": "cell-68ccc4068c5cae0c",
     "locked": true,
     "schema_version": 3,
     "solution": false,
     "task": false
    }
   },
   "outputs": [],
   "source": [
    "# Create network\n",
    "net = LeNet5()"
   ]
  },
  {
   "cell_type": "code",
   "execution_count": 29,
   "metadata": {
    "deletable": false,
    "nbgrader": {
     "cell_type": "code",
     "checksum": "6270848f5387bf01aba9bb5f50303a78",
     "grade": false,
     "grade_id": "training_loop",
     "locked": false,
     "schema_version": 3,
     "solution": true,
     "task": false
    }
   },
   "outputs": [
    {
     "name": "stdout",
     "output_type": "stream",
     "text": [
      "Accuracy: 0.502300\n",
      "Accuracy: 0.596500\n",
      "Accuracy: 0.645600\n",
      "Accuracy: 0.679800\n",
      "Accuracy: 0.683000\n",
      "Accuracy: 0.675900\n",
      "Accuracy: 0.687100\n",
      "Accuracy: 0.723100\n",
      "Accuracy: 0.729500\n",
      "Accuracy: 0.720500\n",
      "Accuracy: 0.731600\n",
      "Accuracy: 0.746300\n",
      "Accuracy: 0.747000\n",
      "Accuracy: 0.745900\n",
      "Accuracy: 0.750300\n",
      "Accuracy: 0.763600\n",
      "Accuracy: 0.748800\n",
      "Accuracy: 0.775100\n",
      "Accuracy: 0.772700\n",
      "Accuracy: 0.772200\n",
      "Accuracy: 0.782100\n",
      "Accuracy: 0.770800\n",
      "Accuracy: 0.766900\n",
      "Accuracy: 0.787500\n",
      "Accuracy: 0.788400\n",
      "Accuracy: 0.783200\n",
      "Accuracy: 0.790400\n",
      "Accuracy: 0.785300\n",
      "Accuracy: 0.786300\n",
      "Accuracy: 0.789100\n",
      "Accuracy: 0.794900\n",
      "Accuracy: 0.802000\n",
      "Accuracy: 0.796100\n",
      "Accuracy: 0.807000\n",
      "Accuracy: 0.806100\n",
      "Accuracy: 0.797500\n",
      "Accuracy: 0.799800\n",
      "Accuracy: 0.814300\n",
      "Accuracy: 0.811700\n",
      "Accuracy: 0.813800\n",
      "Accuracy: 0.816600\n",
      "Accuracy: 0.811500\n",
      "Accuracy: 0.815200\n",
      "Accuracy: 0.805700\n",
      "Accuracy: 0.812000\n",
      "Accuracy: 0.829600\n",
      "Accuracy: 0.824000\n",
      "Accuracy: 0.822200\n",
      "Accuracy: 0.832300\n",
      "Accuracy: 0.814700\n",
      "Accuracy: 0.822600\n",
      "Accuracy: 0.817500\n",
      "Accuracy: 0.834900\n",
      "Accuracy: 0.821800\n",
      "Accuracy: 0.823900\n",
      "Accuracy: 0.824900\n",
      "Accuracy: 0.829400\n",
      "Accuracy: 0.840400\n",
      "Accuracy: 0.842700\n",
      "Accuracy: 0.834300\n",
      "Accuracy: 0.845400\n",
      "Accuracy: 0.839700\n",
      "Accuracy: 0.840100\n",
      "Accuracy: 0.836800\n",
      "Accuracy: 0.831600\n",
      "Accuracy: 0.843800\n",
      "Accuracy: 0.850100\n",
      "Accuracy: 0.847100\n",
      "Accuracy: 0.842500\n",
      "Accuracy: 0.848500\n",
      "Accuracy: 0.832400\n",
      "Accuracy: 0.854800\n",
      "Accuracy: 0.847600\n",
      "Accuracy: 0.852200\n",
      "Accuracy: 0.849400\n",
      "Accuracy: 0.846100\n",
      "Accuracy: 0.849400\n",
      "Accuracy: 0.851600\n",
      "Accuracy: 0.858700\n",
      "Accuracy: 0.856600\n",
      "Accuracy: 0.856400\n",
      "Accuracy: 0.861100\n",
      "Accuracy: 0.854500\n",
      "Accuracy: 0.855200\n",
      "Accuracy: 0.848800\n",
      "Accuracy: 0.855500\n",
      "Accuracy: 0.857400\n",
      "Accuracy: 0.841500\n",
      "Accuracy: 0.859000\n",
      "Accuracy: 0.857600\n",
      "Accuracy: 0.853000\n",
      "Accuracy: 0.856800\n",
      "Accuracy: 0.854200\n",
      "Accuracy: 0.862900\n",
      "Accuracy: 0.859500\n",
      "Accuracy: 0.862200\n",
      "Accuracy: 0.852600\n",
      "Accuracy: 0.862700\n",
      "Accuracy: 0.867500\n",
      "Accuracy: 0.863900\n",
      "Accuracy: 0.860300\n",
      "Accuracy: 0.864300\n",
      "Accuracy: 0.854000\n",
      "Accuracy: 0.864900\n",
      "Accuracy: 0.866100\n",
      "Accuracy: 0.864100\n",
      "Accuracy: 0.856400\n",
      "Accuracy: 0.866500\n",
      "Accuracy: 0.861300\n",
      "Accuracy: 0.857700\n",
      "Accuracy: 0.871800\n",
      "Accuracy: 0.872000\n",
      "Accuracy: 0.864700\n",
      "Accuracy: 0.870100\n",
      "Accuracy: 0.863900\n",
      "Accuracy: 0.852600\n",
      "Accuracy: 0.863000\n",
      "Accuracy: 0.872000\n",
      "Accuracy: 0.870200\n",
      "Accuracy: 0.870000\n",
      "Accuracy: 0.870800\n",
      "Accuracy: 0.871100\n",
      "Accuracy: 0.870500\n",
      "Accuracy: 0.872100\n",
      "Accuracy: 0.872900\n",
      "Accuracy: 0.870900\n",
      "Accuracy: 0.874300\n",
      "Accuracy: 0.871400\n",
      "Accuracy: 0.869500\n",
      "Accuracy: 0.873900\n",
      "Accuracy: 0.867800\n",
      "Accuracy: 0.873000\n",
      "Accuracy: 0.865500\n",
      "Accuracy: 0.870300\n",
      "Accuracy: 0.878000\n",
      "Accuracy: 0.871200\n",
      "Accuracy: 0.874400\n",
      "Accuracy: 0.874400\n",
      "Accuracy: 0.875800\n",
      "Accuracy: 0.866500\n",
      "Accuracy: 0.876000\n",
      "Accuracy: 0.877000\n",
      "Accuracy: 0.877500\n",
      "Accuracy: 0.870400\n",
      "Accuracy: 0.879100\n",
      "Accuracy: 0.872800\n",
      "Accuracy: 0.879200\n",
      "Accuracy: 0.871400\n",
      "Accuracy: 0.881400\n",
      "Accuracy: 0.873200\n",
      "Accuracy: 0.875600\n",
      "Accuracy: 0.876800\n",
      "Accuracy: 0.873600\n",
      "Accuracy: 0.880200\n",
      "Accuracy: 0.879900\n",
      "Accuracy: 0.875500\n",
      "Accuracy: 0.871800\n",
      "Accuracy: 0.880200\n",
      "Accuracy: 0.873300\n",
      "Accuracy: 0.878900\n",
      "Accuracy: 0.880100\n",
      "Accuracy: 0.877600\n",
      "Accuracy: 0.882400\n",
      "Accuracy: 0.883900\n",
      "Accuracy: 0.880100\n",
      "Accuracy: 0.876500\n",
      "Accuracy: 0.876800\n",
      "Accuracy: 0.883500\n",
      "Accuracy: 0.881000\n",
      "Accuracy: 0.881200\n",
      "Accuracy: 0.885800\n",
      "Accuracy: 0.882400\n",
      "Accuracy: 0.879600\n",
      "Accuracy: 0.876200\n",
      "Accuracy: 0.880300\n",
      "Accuracy: 0.880200\n",
      "Accuracy: 0.883200\n",
      "Accuracy: 0.881700\n",
      "Accuracy: 0.884100\n",
      "Accuracy: 0.885500\n",
      "Accuracy: 0.883900\n",
      "Accuracy: 0.883700\n",
      "Accuracy: 0.871400\n",
      "Accuracy: 0.882900\n",
      "Accuracy: 0.886700\n",
      "Accuracy: 0.881700\n",
      "Accuracy: 0.881800\n",
      "Accuracy: 0.885500\n",
      "Accuracy: 0.884100\n",
      "Accuracy: 0.881200\n"
     ]
    }
   ],
   "source": [
    "# Implement the training loop in this cell\n",
    "if not skip_training:\n",
    "    # YOUR CODE HERE\n",
    "    running_loss = 0.0\n",
    "    loss = nn.MSELoss()\n",
    "    criterion = nn.CrossEntropyLoss().cuda()\n",
    "    optimizer = optim.SGD(net.parameters(), lr=0.001, momentum=0.9)\n",
    "    for i in range(10):\n",
    "        for i_batch, sample_batched in enumerate(trainloader):\n",
    "            inputs, labels = sample_batched\n",
    "            optimizer.zero_grad()\n",
    "            outputs = net(inputs)\n",
    "            loss = criterion(outputs, labels)\n",
    "            loss.backward()\n",
    "            optimizer.step()\n",
    "            if i_batch % 100 == 0:  \n",
    "                print(\"Accuracy: %f\" % compute_accuracy(net, testloader))\n",
    "            "
   ]
  },
  {
   "cell_type": "code",
   "execution_count": 30,
   "metadata": {
    "deletable": false,
    "editable": false,
    "nbgrader": {
     "cell_type": "code",
     "checksum": "8c0de1830afda74c01d3b5083ffdce15",
     "grade": false,
     "grade_id": "cell-6e2ddf6eac7edc18",
     "locked": true,
     "schema_version": 3,
     "solution": false
    }
   },
   "outputs": [
    {
     "name": "stdout",
     "output_type": "stream",
     "text": [
      "Do you want to save the model (type yes to confirm)? yes\n",
      "Model saved to 4_lenet5.pth.\n"
     ]
    }
   ],
   "source": [
    "# Save the model to disk (the pth-files will be submitted automatically together with your notebook)\n",
    "if not skip_training:\n",
    "    tools.save_model(net, '4_lenet5.pth')\n",
    "else:\n",
    "    net = LeNet5()\n",
    "    tools.load_model(net, '4_lenet5.pth', device)"
   ]
  },
  {
   "cell_type": "code",
   "execution_count": 31,
   "metadata": {
    "deletable": false,
    "editable": false,
    "nbgrader": {
     "cell_type": "code",
     "checksum": "2e8c0a8c4072d46942d62fe3b05229cb",
     "grade": false,
     "grade_id": "cell-d786a74f883ad32e",
     "locked": true,
     "schema_version": 3,
     "solution": false
    }
   },
   "outputs": [
    {
     "name": "stdout",
     "output_type": "stream",
     "text": [
      "Ground truth labels:  Ankle boot   Pullover    Trouser    Trouser      Shirt\n",
      "Predictions:          Ankle boot   Pullover    Trouser    Trouser      Shirt\n"
     ]
    },
    {
     "data": {
      "image/png": "[encoded data removed]",
      "text/plain": [
       "<Figure size 432x288 with 5 Axes>"
      ]
     },
     "metadata": {},
     "output_type": "display_data"
    }
   ],
   "source": [
    "# Display random images from the test set, the ground truth labels and the network's predictions\n",
    "net.eval()\n",
    "with torch.no_grad():\n",
    "    images, labels = iter(testloader).next()\n",
    "    tests.plot_images(images[:5], n_rows=1)\n",
    "    \n",
    "    # Compute predictions\n",
    "    images = images.to(device)\n",
    "    y = net(images)\n",
    "\n",
    "print('Ground truth labels: ', ' '.join('%10s' % classes[labels[j]] for j in range(5)))\n",
    "print('Predictions:         ', ' '.join('%10s' % classes[j] for j in y.argmax(dim=1)))"
   ]
  },
  {
   "cell_type": "code",
   "execution_count": 32,
   "metadata": {
    "deletable": false,
    "editable": false,
    "nbgrader": {
     "cell_type": "code",
     "checksum": "ebd3250ccf1b7701b1eb9eead9ab8517",
     "grade": true,
     "grade_id": "accuracy",
     "locked": true,
     "points": 0.5,
     "schema_version": 3,
     "solution": false
    }
   },
   "outputs": [
    {
     "name": "stdout",
     "output_type": "stream",
     "text": [
      "Accuracy of the network on the test images: 0.885\n",
      "Success\n"
     ]
    }
   ],
   "source": [
    "# Compute the accuracy on the test set\n",
    "accuracy = compute_accuracy(net, testloader)\n",
    "print('Accuracy of the network on the test images: %.3f' % accuracy)\n",
    "assert accuracy > 0.87, \"Poor accuracy {:.3f}\".format(accuracy)\n",
    "print('Success')"
   ]
  },
  {
   "cell_type": "code",
   "execution_count": null,
   "metadata": {},
   "outputs": [],
   "source": []
  }
 ],
 "metadata": {
  "anaconda-cloud": {},
  "kernelspec": {
   "display_name": "Python 3",
   "language": "python",
   "name": "python3"
  },
  "language_info": {
   "codemirror_mode": {
    "name": "ipython",
    "version": 3
   },
   "file_extension": ".py",
   "mimetype": "text/x-python",
   "name": "python",
   "nbconvert_exporter": "python",
   "pygments_lexer": "ipython3",
   "version": "3.7.3"
  },
  "varInspector": {
   "cols": {
    "lenName": 16,
    "lenType": 16,
    "lenVar": 40
   },
   "kernels_config": {
    "python": {
     "delete_cmd_postfix": "",
     "delete_cmd_prefix": "del ",
     "library": "var_list.py",
     "varRefreshCmd": "print(var_dic_list())"
    },
    "r": {
     "delete_cmd_postfix": ") ",
     "delete_cmd_prefix": "rm(",
     "library": "var_list.r",
     "varRefreshCmd": "cat(var_dic_list()) "
    }
   },
   "types_to_exclude": [
    "module",
    "function",
    "builtin_function_or_method",
    "instance",
    "_Feature"
   ],
   "window_display": false
  }
 },
 "nbformat": 4,
 "nbformat_minor": 4
}
